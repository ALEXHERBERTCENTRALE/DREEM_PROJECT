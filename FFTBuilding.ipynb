{
 "cells": [
  {
   "cell_type": "markdown",
   "metadata": {},
   "source": [
    "# Construction of Fast Fourier Transform Dataset"
   ]
  },
  {
   "cell_type": "code",
   "execution_count": null,
   "metadata": {},
   "outputs": [],
   "source": [
    "import h5py\n",
    "\n",
    "def buildFFTDataset():\n",
    "    X_train = h5py.File('train.h5','r').copy()\n",
    "    X_test = h5py.File('test.h5','r').copy()\n",
    "    keys = list(X_train.keys())\n",
    "\n",
    "    X_train_fft.close()\n",
    "    X_test_fft.close()\n",
    "\n",
    "    X_train_fft = h5py.File('X_train_fft.h5','a')\n",
    "    X_test_fft = h5py.File('X_test_fft.h5','a')\n",
    "\n",
    "    for feature_id in range(len(keys)):\n",
    "        feature=keys[feature_id]\n",
    "        signals = X_train[feature]\n",
    "        feature_fft=[[]]*train_dataset_size\n",
    "        for element_id in range(train_dataset_size):\n",
    "            element = signals[element_id]\n",
    "            spectre = np.absolute(numpy.fft.fft(element))\n",
    "            spectre = spectre[0:len(spectre)//2]\n",
    "            feature_fft[i]=spectre\n",
    "        X_train_fft.create_dataset(name=feature, data=feature_fft, dtype=\"float\")\n",
    "\n",
    "    for feature_id in range(len(keys)):\n",
    "        feature=keys[feature_id]\n",
    "        signals = X_test[feature]\n",
    "        feature_fft=[[]]*test_dataset_size\n",
    "        for element_id in range(test_dataset_size):\n",
    "            element = signals[element_id]\n",
    "            spectre = np.absolute(numpy.fft.fft(element))\n",
    "            spectre = spectre[0:len(spectre)//2]\n",
    "            feature_fft[i]=spectre\n",
    "        X_test_fft.create_dataset(name=feature, data=feature_fft, dtype=\"float\")"
   ]
  }
 ],
 "metadata": {
  "kernelspec": {
   "display_name": "Python 3",
   "language": "python",
   "name": "python3"
  },
  "language_info": {
   "codemirror_mode": {
    "name": "ipython",
    "version": 3
   },
   "file_extension": ".py",
   "mimetype": "text/x-python",
   "name": "python",
   "nbconvert_exporter": "python",
   "pygments_lexer": "ipython3",
   "version": "3.6.5"
  }
 },
 "nbformat": 4,
 "nbformat_minor": 2
}
