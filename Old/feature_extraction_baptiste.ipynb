{
 "cells": [
  {
   "cell_type": "code",
   "execution_count": 3,
   "metadata": {},
   "outputs": [
    {
     "name": "stdout",
     "output_type": "stream",
     "text": [
      "Populating the interactive namespace from numpy and matplotlib\n"
     ]
    }
   ],
   "source": [
    "import numpy as np\n",
    "import h5py\n",
    "%pylab inline"
   ]
  },
  {
   "cell_type": "markdown",
   "metadata": {},
   "source": [
    "# Importing data"
   ]
  },
  {
   "cell_type": "code",
   "execution_count": 4,
   "metadata": {},
   "outputs": [],
   "source": [
    "# Chargement des données\n",
    "path = \"C:/Users/tbapt/Desktop/Documents/Ecole/3A/Machine_learning/Data/\"\n",
    "\n",
    "X_train = h5py.File(path+'train.h5', 'r')\n",
    "X_test = h5py.File(path+'test.h5', 'r')\n",
    "y = np.loadtxt(path+'train_y.csv',  delimiter=',', skiprows=1, usecols=range(1, 2)).astype('int')\n",
    "\n",
    "#print(list(X_train.keys()))\n",
    "#print(list(X_test.keys()))\n",
    "#print(y)\n",
    "\n",
    "\n",
    "accelerometer_x_train = X_train['accelerometer_x']\n",
    "accelerometer_y_train = X_train['accelerometer_y']\n",
    "accelerometer_z_train = X_train['accelerometer_z']\n",
    "eeg_1_train = X_train['eeg_1']\n",
    "eeg_2_train = X_train['eeg_2']\n",
    "eeg_3_train = X_train['eeg_3']\n",
    "eeg_4_train = X_train['eeg_4']\n",
    "eeg_5_train = X_train['eeg_5']\n",
    "eeg_6_train = X_train['eeg_6']\n",
    "eeg_7_train = X_train['eeg_7']\n",
    "pulse_oximeter_infrared_train = X_train['pulse_oximeter_infrared']\n",
    "\n",
    "accelerometer_x_test = X_test['accelerometer_x']\n",
    "accelerometer_y_test = X_test['accelerometer_y']\n",
    "accelerometer_z_test = X_test['accelerometer_z']\n",
    "eeg_1_test = X_test['eeg_1']\n",
    "eeg_2_test = X_test['eeg_2']\n",
    "eeg_3_test = X_test['eeg_3']\n",
    "eeg_4_test = X_test['eeg_4']\n",
    "eeg_5_test = X_test['eeg_5']\n",
    "eeg_6_test = X_test['eeg_6']\n",
    "eeg_7_test = X_test['eeg_7']\n",
    "pulse_oximeter_infrared_test = X_test['pulse_oximeter_infrared']\n",
    "\n",
    "keys=list(X_train.keys())\n",
    "train_dataset_size=len(accelerometer_x_train)\n",
    "test_dataset_size=len(accelerometer_x_test)"
   ]
  },
  {
   "cell_type": "markdown",
   "metadata": {},
   "source": [
    "# Computing the mean difference between neighbours in frequency domain"
   ]
  },
  {
   "cell_type": "code",
   "execution_count": 33,
   "metadata": {},
   "outputs": [],
   "source": [
    "def mean_diff_neighb_one(list_freq):\n",
    "    return np.average(list(abs(list_freq[i+1]-list_freq[i]) for i in range(len(list_freq)-1)))\n",
    "\n",
    "def mean_diff_neighb(h5file_freq):  #h5file_freq is X_train or X_test, key_list is keys\n",
    "    #X_train_fft = h5py.File('X_train_fft.h5','a')\n",
    "    rep = [0]*len(h5file_freq)\n",
    "    key_list = list(h5file_freq.keys())\n",
    "    for k_id in range(len(key_list)):\n",
    "        k=key_list[k_id]\n",
    "        rep[k] = list(mean_diff_neighb_one(h5file_freq[k][i]) for i in range(len(h5file_freq[k])))\n",
    "    return rep"
   ]
  },
  {
   "cell_type": "markdown",
   "metadata": {},
   "source": [
    "# Computing std deviations over a set ok n_nb neighbours"
   ]
  },
  {
   "cell_type": "code",
   "execution_count": 48,
   "metadata": {},
   "outputs": [],
   "source": [
    "def std_deviation_nb_one(list_freq , n_nb):\n",
    "    c_max = len(list_freq)//n_nb\n",
    "    return np.average(list(np.std(list_freq[c*n_nb:(c+1)*n_nb]) for c in range(c_max)))\n",
    "\n",
    "def std_deviation_nb(h5file_freq , n_nb):\n",
    "    rep = [0]*len(h5file_freq)\n",
    "    key_list = list(h5file_freq.keys())\n",
    "    for k_id in range(len(key_list)):\n",
    "        k=key_list[k_id]\n",
    "        rep[k] = list(std_deviation_nb_one(h5file_freq[k][i] , n_nb) for i in range(len(h5file_freq[k])))\n",
    "    return rep"
   ]
  },
  {
   "cell_type": "markdown",
   "metadata": {},
   "source": [
    "# Is there anyone in the upper right ?"
   ]
  },
  {
   "cell_type": "code",
   "execution_count": null,
   "metadata": {},
   "outputs": [],
   "source": [
    "def upper_right_one(list_freq , th_amp , th_freq):\n",
    "    return max(list_freq[th_freq:-1])>th_amp\n",
    "\n",
    "def std_deviation_nb(h5file_freq , th_amp , th_freq):\n",
    "    rep = [0]*len(h5file_freq)\n",
    "    key_list = list(h5file_freq.keys())\n",
    "    for k_id in range(len(key_list)):\n",
    "        k=key_list[k_id]\n",
    "        rep[k] = list(upper_right_one(h5file_freq[k][i] , th_amp , th_freq) for i in range(len(h5file_freq[k])))\n",
    "    return rep"
   ]
  },
  {
   "cell_type": "markdown",
   "metadata": {},
   "source": [
    "# Test"
   ]
  },
  {
   "cell_type": "code",
   "execution_count": 41,
   "metadata": {},
   "outputs": [
    {
     "name": "stdout",
     "output_type": "stream",
     "text": [
      "0.000890662370687\n"
     ]
    }
   ],
   "source": [
    "#X2 = X_train[list(X_train.keys())[0]][0:10]\n",
    "u = mean_diff_neighb_one(X_train[list(X_train.keys())[0]][0])\n",
    "print(u)\n",
    "#u2 = mean_diff_neighb(X_train)"
   ]
  },
  {
   "cell_type": "code",
   "execution_count": 50,
   "metadata": {},
   "outputs": [
    {
     "name": "stdout",
     "output_type": "stream",
     "text": [
      "0.0011950511165\n"
     ]
    }
   ],
   "source": [
    "v = std_deviation_nb_one(X_train[list(X_train.keys())[0]][0] , 125)\n",
    "print(v)\n",
    "#v2 = std_deviation_nb(X_train , 125)"
   ]
  }
 ],
 "metadata": {
  "kernelspec": {
   "display_name": "Python 3",
   "language": "python",
   "name": "python3"
  },
  "language_info": {
   "codemirror_mode": {
    "name": "ipython",
    "version": 3
   },
   "file_extension": ".py",
   "mimetype": "text/x-python",
   "name": "python",
   "nbconvert_exporter": "python",
   "pygments_lexer": "ipython3",
   "version": "3.6.3"
  }
 },
 "nbformat": 4,
 "nbformat_minor": 2
}
