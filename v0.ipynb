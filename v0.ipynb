{
 "cells": [
  {
   "cell_type": "markdown",
   "metadata": {},
   "source": [
    "## 1. Importation des données"
   ]
  },
  {
   "cell_type": "code",
   "execution_count": 2,
   "metadata": {},
   "outputs": [],
   "source": [
    "import numpy as np"
   ]
  },
  {
   "cell_type": "code",
   "execution_count": 31,
   "metadata": {
    "scrolled": true
   },
   "outputs": [],
   "source": [
    "import h5py\n",
    "\n",
    "# Chargement des données\n",
    "\n",
    "X_train = h5py.File('train.h5', 'r')\n",
    "X_test = h5py.File('test.h5', 'r')\n",
    "y = np.loadtxt('train_y.csv',  delimiter=',', skiprows=1, usecols=range(1, 2)).astype('int')\n",
    "\n",
    "#print(list(X_train.keys()))\n",
    "#print(list(X_test.keys()))\n",
    "#print(y)\n",
    "\n",
    "accelerometer_x_train = X_train['accelerometer_x']\n",
    "accelerometer_y_train = X_train['accelerometer_y']\n",
    "accelerometer_z_train = X_train['accelerometer_z']\n",
    "eeg_1_train = X_train['eeg_1']\n",
    "eeg_2_train = X_train['eeg_2']\n",
    "eeg_3_train = X_train['eeg_3']\n",
    "eeg_4_train = X_train['eeg_4']\n",
    "eeg_5_train = X_train['eeg_5']\n",
    "eeg_6_train = X_train['eeg_6']\n",
    "eeg_7_train = X_train['eeg_7']\n",
    "pulse_oximeter_infrared_train = X_train['pulse_oximeter_infrared']\n",
    "\n",
    "accelerometer_x_test = X_test['accelerometer_x']\n",
    "accelerometer_y_test = X_test['accelerometer_y']\n",
    "accelerometer_z_test = X_test['accelerometer_z']\n",
    "eeg_1_test = X_test['eeg_1']\n",
    "eeg_2_test = X_test['eeg_2']\n",
    "eeg_3_test = X_test['eeg_3']\n",
    "eeg_4_test = X_test['eeg_4']\n",
    "eeg_5_test = X_test['eeg_5']\n",
    "eeg_6_test = X_test['eeg_6']\n",
    "eeg_7_test = X_test['eeg_7']\n",
    "pulse_oximeter_infrared_test = X_test['pulse_oximeter_infrared']"
   ]
  },
  {
   "cell_type": "markdown",
   "metadata": {},
   "source": [
    "## 2. Validation croisée"
   ]
  },
  {
   "cell_type": "code",
   "execution_count": null,
   "metadata": {},
   "outputs": [],
   "source": []
  }
 ],
 "metadata": {
  "kernelspec": {
   "display_name": "Python 3",
   "language": "python",
   "name": "python3"
  },
  "language_info": {
   "codemirror_mode": {
    "name": "ipython",
    "version": 3
   },
   "file_extension": ".py",
   "mimetype": "text/x-python",
   "name": "python",
   "nbconvert_exporter": "python",
   "pygments_lexer": "ipython3",
   "version": "3.6.5"
  }
 },
 "nbformat": 4,
 "nbformat_minor": 2
}
